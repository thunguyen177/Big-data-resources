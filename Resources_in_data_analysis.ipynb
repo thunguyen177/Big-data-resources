{
  "nbformat": 4,
  "nbformat_minor": 0,
  "metadata": {
    "colab": {
      "name": "Resources in data analysis.ipynb",
      "version": "0.3.2",
      "provenance": [],
      "collapsed_sections": [],
      "include_colab_link": true
    },
    "kernelspec": {
      "name": "python2",
      "display_name": "Python 2"
    }
  },
  "cells": [
    {
      "cell_type": "markdown",
      "metadata": {
        "id": "view-in-github",
        "colab_type": "text"
      },
      "source": [
        "<a href=\"https://colab.research.google.com/github/thunguyen177/Big-data-resources/blob/master/Resources_in_data_analysis.ipynb\" target=\"_parent\"><img src=\"https://colab.research.google.com/assets/colab-badge.svg\" alt=\"Open In Colab\"/></a>"
      ]
    },
    {
      "metadata": {
        "id": "uPGJuuBkl6cL",
        "colab_type": "text"
      },
      "cell_type": "markdown",
      "source": [
        "\n",
        "\n",
        "# Basic statistics courses :\n",
        "- Statistics 110: **Probability**:\n",
        "Statistics 110 (Probability), which has been taught at Harvard University by Joe Blitzstein (Professor of the Practice in Statistics, Harvard University) each year since 2006. \n",
        "http://www.youtube.com/playlist?list=PL2SOU6wwxB0uwwH80KTQ6ht66KWxbzTIo \n",
        "\n",
        "- DATA ANALYSIS EXAMPLES from UCLA's Image \n",
        "Institute for Digital Research and Education: \n",
        "https://stats.idre.ucla.edu/other/dae/\n",
        "They use Stata\tSAS\tSPSS\tMplus\tR only\n",
        "\n",
        "# Introductory Machine learning courses:\n",
        "- ** Caltech Machine Learning Course - CS156**:\n",
        "\n",
        "[youtube video](https://www.youtube.com/watch?v=mbyG85GZ0PI&list=PLD63A284B7615313A)\n",
        "\n",
        "[course website](http://work.caltech.edu/telecourse.html)\n",
        "\n",
        "- **CMU's Math background for Machine Learning**:\n",
        "Topics covered include probability, linear algebra (inner product spaces, linear operators, eigenspectra), multivariate differential calculus, and likelihood functions.\n",
        "https://www.youtube.com/watch?v=7MN3OP1IYk8&list=PL7y-1rk2cCsA339crwXMWUaBRuLBvPBCg\n",
        "\n",
        "- **Stanford CS229: Machine Learning**\n",
        "Instructors: Ron Dror, Andrew Ng  \n",
        "Video: https://www.youtube.com/watch?v=UzxYlbK2c7E&list=PLA89DCFA6ADACE599\n",
        "\n",
        "website: http://cs229.stanford.edu/\n",
        "\n",
        "A broad introduction to machine learning and statistical pattern recognition. Topics include: supervised learning (generative/discriminative learning, parametric/non-parametric learning, neural networks, support vector machines); unsupervised learning (clustering, dimensionality reduction, kernel methods); learning theory (bias/variance tradeoffs; VC theory; large margins); reinforcement learning and adaptive control. The course will also discuss recent applications of machine learning, such as to robotic control, data mining, autonomous navigation, bioinformatics, speech recognition, and text and web data processing:.\n",
        "\n",
        "- **Statistical learning**: A self-spaced course from Stanford \n",
        "https://lagunita.stanford.edu/courses/HumanitiesSciences/StatLearning/Winter2016/about\n",
        "syllabus includes: linear and polynomial regression, logistic regression and linear discriminant analysis; cross-validation and the bootstrap, model selection and regularization methods (ridge and lasso); nonlinear models, splines and generalized additive models; tree-based methods, random forests and boosting; support-vector machines. Some unsupervised learning methods are discussed: principal components and clustering (k-means and hierarchical).\n",
        "\n",
        " **downloadable** related books:\n",
        " An Introduction to Statistical Learning with Applications in R:\n",
        " http://www-bcf.usc.edu/~gareth/ISL/\n",
        " \n",
        "The element of statistical learning – Trevor Hastie – Robert Tibshirani – Jerome Friedma\n",
        "A related book:\n",
        "http://statweb.stanford.edu/~tibs/ElemStatLearn/index.html\n",
        "\n",
        "- **Artificial Intelligence -MIT**:\n",
        "\n",
        "https://ocw.mit.edu/courses/electrical-engineering-and-computer-science/6-034-artificial-intelligence-fall-2010/\n",
        "\n",
        "- **MIT 6.S191: Introduction to Deep Learning**\n",
        "https://www.youtube.com/watch?v=JN6H4rQvwgY&list=PLtBw6njQRU-rwp5__7C0oIVt26ZgjG9NI\n",
        "\n"
      ]
    },
    {
      "metadata": {
        "id": "51yqJEit5EtJ",
        "colab_type": "text"
      },
      "cell_type": "markdown",
      "source": [
        "# Bayesian Statistics\n",
        " \n",
        " - [Bayesian inference by Prof. Jarad Niemi](https://www.youtube.com/watch?v=25-PpMSrAGM&list=PLFHD4aOUZFp3Fx3rfRkBR0XjP1OCcrYXP)\n",
        " \n",
        " [course website](http://www.jarad.me/courses/stat544/)"
      ]
    },
    {
      "metadata": {
        "id": "zzituMl23W7K",
        "colab_type": "text"
      },
      "cell_type": "markdown",
      "source": [
        "# More advanced courses:\n",
        "\n",
        "- [Victor Lavrenko youtube channel](https://www.youtube.com/user/victorlavrenko/playlists) contains a lot of nice lectures about Machine Learning, Information Retrieval, Text technologies for Data Science, Search Engines\n",
        "\n",
        "\n",
        "- **Stanford's CS231n: Convolutional Neural Networks for Visual Recognition**\n",
        "https://www.youtube.com/watch?v=vT1JzLTH4G4&list=PL3FW7Lu3i5JvHM8ljYj-zLfQRF3EO8sYv\n",
        "\n",
        "http://cs231n.stanford.edu/\n",
        "\n",
        "- **Natural Language Processing with Deep Learning**\n",
        "http://web.stanford.edu/class/cs224n/\n",
        "https://www.youtube.com/watch?v=OQQ-W_63UgQ&list=PL3FW7Lu3i5Jsnh1rnUwq_TcylNr7EkRe6\n",
        "\n",
        "- **CMU's graduate AI**: https://www.youtube.com/watch?v=EqDJDCbmVS8&list=PLpIxOj-HnDsPfw9slkk0BfwuiNEYVnsd_\n",
        "\n",
        "- **CMU Statistical Machine Learning**: mainly about theoratical **nonparametric statistics**\n",
        "http://www.stat.cmu.edu/~ryantibs/statml/\n",
        "\n",
        "https://www.youtube.com/watch?v=Z1cSby8ZzhA&list=PLjbUi5mgii6B7A0nM74zHTOVQtTC9DaCv\n",
        "\n",
        "- **CMU 10-605 Machine Learning With Large Datasets**: \n",
        "https://www.youtube.com/watch?v=tdKz9COYwWM&list=PLnfBqXRW5MRhPtfkadfwQ0VcuSi2IwEcW\n",
        "\n",
        "## University of Washington Biostatistics and Big Data summer Institute:\n",
        "Please take a look at\n",
        "https://www.biostat.washington.edu/suminst/archives\n",
        "Note that Modules in years 2018 have videos, but Modules in previous years have online videos\n",
        "\n",
        "## Tutorials and paper representation from conferences:\n",
        "- 14th International Conference on Artificial Intelligence and Statistics (AISTATS), Ft. Lauderdale 2011\n",
        "http://videolectures.net/aistats2011_fortlauderdale/\n",
        "\n",
        "- machine learning summer school- Cambridge (videos)\n",
        "http://videolectures.net/mlss09uk_cambridge/ \n",
        "\n",
        "- - **Machine Learning Summer School - CMU 2014**:\n",
        "https://www.youtube.com/watch?v=4myTpLua0EM&list=PL30NkS1-61YzkRgr-X0DMqlg4LHlxkXcb\n",
        "\n",
        "## Popular youtube channel on statistics and Machine Learning:\n",
        "- Max Planck Institute for Intelligent Systems\n",
        "https://www.youtube.com/channel/UCty-pPOWlWUk4gXNm5pydcg\n",
        "\n",
        "- Center for Brains, Minds and Machines (CBMM): \n",
        "https://www.youtube.com/channel/UCGoxKRfTs0jQP52cfHCyyRQ\n",
        "\n",
        "- Bert Huang: https://www.youtube.com/user/berty38/playlists\n",
        "\n",
        "## Other materials:\n",
        "- Probabilistic Systems Analysis and Applied Probability -MIT:\n",
        "http://www.youtube.com/watch?v=j9WZyLZCBzs&list=PLUl4u3cNGP61MdtwGTqZA0MreSaDybji8\n",
        "\n",
        "- Regression - Linear Models in Statistics -  N.H. Bingham • John M. Fry: one of the best introductory book on regression I have ever read. \n",
        "\n"
      ]
    },
    {
      "metadata": {
        "id": "f9PE7RkDl3Zj",
        "colab_type": "code",
        "colab": {}
      },
      "cell_type": "code",
      "source": [
        ""
      ],
      "execution_count": 0,
      "outputs": []
    }
  ]
}