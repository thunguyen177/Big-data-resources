{
  "nbformat": 4,
  "nbformat_minor": 0,
  "metadata": {
    "kernelspec": {
      "display_name": "Python 3",
      "language": "python",
      "name": "python3"
    },
    "language_info": {
      "codemirror_mode": {
        "name": "ipython",
        "version": 3
      },
      "file_extension": ".py",
      "mimetype": "text/x-python",
      "name": "python",
      "nbconvert_exporter": "python",
      "pygments_lexer": "ipython3",
      "version": "3.8.3"
    },
    "colab": {
      "name": "Colab_Randomness_cheatsheet.ipynb",
      "provenance": [],
      "collapsed_sections": [],
      "include_colab_link": true
    }
  },
  "cells": [
    {
      "cell_type": "markdown",
      "metadata": {
        "id": "view-in-github",
        "colab_type": "text"
      },
      "source": [
        "<a href=\"https://colab.research.google.com/github/thunguyen177/Big-data-resources/blob/master/Colab_Randomness_cheatsheet.ipynb\" target=\"_parent\"><img src=\"https://colab.research.google.com/assets/colab-badge.svg\" alt=\"Open In Colab\"/></a>"
      ]
    },
    {
      "cell_type": "markdown",
      "metadata": {
        "id": "emmpQxGSyieq"
      },
      "source": [
        "<a href='https://ellienguyen.style/'><font color=\"green\"> <b> <center> Ellie Nguyen  </center> </b></font> </a>\n",
        " [<center>Chuỗi video hướng dẫn sử dụng Colab tương ứng</center>](https://www.youtube.com/playlist?list=PLm6s_eiLh5Cpdyb7AuHSx_43FGGZn9p5z) \n"
      ]
    },
    {
      "cell_type": "markdown",
      "metadata": {
        "id": "3LLurzvdyiex"
      },
      "source": [
        " <font color=\"green\"> <b> <center>  Memory and data </center> </b></font>  \n",
        "Download data and extract data directly from the internet:"
      ]
    },
    {
      "cell_type": "code",
      "metadata": {
        "id": "4WhGjW-kBpAo"
      },
      "source": [
        "# raw=true is important so you download the file rather than the webpage.\n",
        "!wget https://github.com/snagcliffs/PDE-FIND/blob/master/Datasets/kuramoto_sivishinky.mat?raw=true\n",
        "# rename the file\n",
        "!mv kuramoto_sivishinky.mat\\?raw\\=true kuramoto_sivishinky.mat\n",
        "# For zipped files\n",
        "!wget https://archive.ics.uci.edu/ml/machine-learning-databases/00433/Flowmeters.zip\n",
        "!unzip Flowmeters.zip"
      ],
      "execution_count": null,
      "outputs": []
    },
    {
      "cell_type": "markdown",
      "metadata": {
        "id": "DqnflcoQyie4"
      },
      "source": [
        "- To list all files: `!ls`\n",
        "- Colab acts similar to Jupyter. It includes shortcuts for common operations, run `!ls /bin` to see all the available ones."
      ]
    },
    {
      "cell_type": "markdown",
      "metadata": {
        "id": "SA5F8PvrDdVK"
      },
      "source": [
        "Create a code chunk ran in shell: use `%%shell`:\n",
        "```\n",
        "%%shell\n",
        "# download a dataset\n",
        "wget https://www.cis.upenn.edu/~jshi/ped_html/PennFudanPed.zip .\n",
        "# extract  \n",
        "unzip PennFudanPed.zip\n",
        "```"
      ]
    },
    {
      "cell_type": "markdown",
      "metadata": {
        "id": "JfX49VXPyie7"
      },
      "source": [
        "<font color=\"green\"> <b> <center> Packages </center> </b></font>  \n",
        "- install a package: `!pip install matplotlib-venn` or `!apt-get -qq install -y libfluidsynth1`\n",
        "- Install 7zip reader libarchive (https://pypi.python.org/pypi/libarchive):\n",
        "```\n",
        "!apt-get -qq install -y libarchive-dev && pip install -U libarchive\n",
        "import libarchive\n",
        "```\n",
        "- To install a package from github\n",
        "\n",
        "```\n",
        "pip install git+https://github.com/jkbr/httpie.git#egg=httpie\n",
        "```"
      ]
    },
    {
      "cell_type": "markdown",
      "metadata": {
        "id": "NwLBQ0MTyie9"
      },
      "source": [
        "<font color=\"green\"> <b> <center>  Tensorflow </center> </b></font>   \n",
        "\n",
        "- determine which version you're using: `!pip show tensorflow`\n",
        "\n",
        "- upgrade version: `!pip install --upgrade tensorflow`\n",
        "\n",
        "- intall a specific version: `!pip install tensorflow==1.2`\n",
        "\n",
        "- install the latest nightly build: `!pip install tf-nightly`"
      ]
    },
    {
      "cell_type": "markdown",
      "metadata": {
        "id": "nMEhGcsoyie-"
      },
      "source": [
        "## <font color=\"green\"> <b> <center> Colab and Google Drive</center> </b></font>  \n",
        "- Connect with Google drive:"
      ]
    },
    {
      "cell_type": "code",
      "metadata": {
        "id": "Hcp30ZFByifD"
      },
      "source": [
        "from google.colab import drive\n",
        "drive.mount('/content/drive')"
      ],
      "execution_count": null,
      "outputs": []
    },
    {
      "cell_type": "markdown",
      "metadata": {
        "id": "vNBUd4g3yifE"
      },
      "source": [
        "Append the path to access files from Drive directly:"
      ]
    },
    {
      "cell_type": "code",
      "metadata": {
        "id": "KOALab_SyifF"
      },
      "source": [
        "import sys\n",
        "sys.path.append(\"drive\")\n",
        "import os\n",
        "os.chdir('drive/My Drive/Colab Notebooks')"
      ],
      "execution_count": null,
      "outputs": []
    },
    {
      "cell_type": "markdown",
      "metadata": {
        "id": "YU77QJXXyifI"
      },
      "source": [
        "- Upload and download files:"
      ]
    },
    {
      "cell_type": "code",
      "metadata": {
        "id": "f4huI5XZyifO"
      },
      "source": [
        "from google.colab import files\n",
        "# **Upload file**:\n",
        "uploaded = files.upload()\n",
        "# **Download files**:\n",
        "files.download('checkpoint')\n",
        "files.download('cp.ckpt.data-00000-of-00001') \n",
        "files.download('cp.ckpt.index')"
      ],
      "execution_count": null,
      "outputs": []
    },
    {
      "cell_type": "markdown",
      "metadata": {
        "id": "XPr0kV_pyifS"
      },
      "source": [
        "### <font color=\"green\"> <b> <center>  Get more RAM</center> </b></font>  "
      ]
    },
    {
      "cell_type": "markdown",
      "metadata": {
        "id": "juB6nXCAR5DZ"
      },
      "source": [
        "To request more RAM in Colab, run the following code\n",
        "```\n",
        "data = []\n",
        "while(1): \n",
        "  data.append('1234')\n",
        "```\n",
        "\n",
        "After the notebook collapse, Colab will ask if you would to switch to high RAM mode (~ 25 GB)\n",
        "\n",
        "Another way is to go to `Runtime >> Change runtime type`, select `High-RAM` in `Runtime shape`\n",
        "\n"
      ]
    },
    {
      "cell_type": "markdown",
      "metadata": {
        "id": "-82qG8n2Q2U8"
      },
      "source": [
        "### <font color=\"green\"> <b> <center>   set random seed</center> </b></font>  \n",
        "\n",
        "The random number generated by computers are actually pseudo-random. Therefore, we can set random seed so that we can get the same results when running the code multiples time or run from a different computer.\n",
        "\n",
        "The following codes allow set random seeds even for neural network initialization"
      ]
    },
    {
      "cell_type": "code",
      "metadata": {
        "id": "NZ957hhmyifW"
      },
      "source": [
        "from numpy.random import seed\n",
        "seed_value = 0\n",
        "tf.random.set_seed(0)\n",
        "# 1. Set `PYTHONHASHSEED` environment variable at a fixed value\n",
        "import os\n",
        "os.environ['PYTHONHASHSEED']=str(seed_value)\n",
        "\n",
        "# 2. Set `python` built-in pseudo-random generator at a fixed value\n",
        "import random\n",
        "random.seed(seed_value)\n",
        "\n",
        "# 3. Set `numpy` pseudo-random generator at a fixed value\n",
        "np.random.seed(seed_value)"
      ],
      "execution_count": null,
      "outputs": []
    },
    {
      "cell_type": "markdown",
      "metadata": {
        "id": "viCtbyZs5zgd"
      },
      "source": [
        "### <font color=\"green\"> <b> <center>  Text format </center> </b></font>  \n",
        "\n",
        "\n",
        "\n",
        "Markdown | Preview\n",
        "--- | ---\n",
        "`**bold text**` | **bold text**\n",
        "`*italicized text*` or `_italicized text_` | *italicized text*\n",
        "`` `Monospace` `` | `Monospace`\n",
        "`~~strikethrough~~` | ~~strikethrough~~\n",
        "`[A link](https://www.google.com)` | [A link](https://www.google.com)\n",
        "`![An image](https://www.google.com/images/rss.png)` | ![An image](https://www.google.com/images/rss.png)\n",
        "\n",
        "[source: Colab markdown guide](https://colab.research.google.com/notebooks/markdown_guide.ipynb)"
      ]
    },
    {
      "cell_type": "markdown",
      "metadata": {
        "id": "IXWrozU6knFk"
      },
      "source": [
        "## Convert notebook to Latex, html, pdf, asciidoc, python, slides,...\n",
        "\n",
        "```\n",
        "! pip install nbconvert\n",
        "! conda install -c anaconda nbconvert\n",
        "# convert KuraSiva2.ipynb to Latex:\n",
        "! jupyter nbconvert --to latex KuraSiva2.ipynb\n",
        "```\n",
        "<!-- To hide the code and show the output of codechunks only\n",
        "```\n",
        "!pip install hide_code\n",
        "!jupyter nbextension install --py hide_code\n",
        "!jupyter nbextension enable --py hide_code\n",
        "!jupyter serverextension enable --py hide_code\n",
        "```\n",
        "Then, go to `View`, click on `show/hide code`. After that, use one of the following lines to convert to html/latex/pdf/...\n",
        "```\n",
        "!jupyter nbconvert --to html KuraSiva2.ipynb\n",
        "!jupyter nbconvert --to latexpdf KuraSiva2.ipynb\n",
        "!jupyter nbconvert --to pdf KuraSiva2.ipynb\n",
        "``` -->"
      ]
    },
    {
      "cell_type": "markdown",
      "metadata": {
        "id": "h7Vg0sMMyifX"
      },
      "source": [
        "### <font color=\"green\"> <b> <center> Other stuff </center> </b></font> \n",
        "- <a href='https://colab.research.google.com/notebooks/widgets.ipynb#scrollTo=rYTZ6IhFPW1E'>Colab Widgets:</a>  enable redirecting future output to a particular place in the layout rather than requiring users to provide preconstructed html. Thus existing code that publishes its own output (such as bokeh, or matplotlib) can be treated as building-blocks from which more complex layouts can be built. Widgets also support a simple protocol for updating and clearing outputs dynamically.\n",
        "- <a href='https://colab.research.google.com/notebooks/forms.ipynb'>Colab Form</a>: an easy way to parameterize code \n",
        "- <a href='https://colab.research.google.com/notebooks/io.ipynb#scrollTo=p2E4EKhCWEC5'>Learn using PyDrive, Google sheet, Google Cloud Storage</a> \n",
        "- <a href='https://colab.research.google.com/notebooks/charts.ipynb'>Charts</a> \n",
        "- <a href='https://colab.research.google.com/notebooks/bigquery.ipynb'>BigQuery</a> "
      ]
    },
    {
      "cell_type": "markdown",
      "metadata": {
        "id": "OwdakIqjyifZ"
      },
      "source": [
        " <footer id=\"main-footer\">\n",
        "        <hr color = \"black\" width=\"400px\">\n",
        "    <center> Copyright &copy; 2019 Ellie Nguyen. All rights reserved.</center>\n",
        "</footer>"
      ]
    }
  ]
}